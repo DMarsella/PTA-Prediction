{
 "cells": [
  {
   "cell_type": "code",
   "execution_count": 1,
   "id": "ec64c0db-b6b0-4496-a388-b0a19d646435",
   "metadata": {},
   "outputs": [],
   "source": [
    "import matplotlib.pyplot as plt\n",
    "import glob\n",
    "import numpy as np"
   ]
  },
  {
   "cell_type": "code",
   "execution_count": null,
   "id": "2ccb4e97-28cc-4c8a-93e1-c1f3e2fd3817",
   "metadata": {},
   "outputs": [],
   "source": [
    "data = 'Data/Predictions/Virgo5_R12.5_D12.75_f2.000_p76FAP_Data.txt'\n",
    "\n",
    "raw=[]\n",
    "for txt in glob.glob(data + '*.txt'):\n",
    "    with open(txt, 'r') as f:\n",
    "        raw.append(f.read())"
   ]
  }
 ],
 "metadata": {
  "kernelspec": {
   "display_name": "Python 3 (ipykernel)",
   "language": "python",
   "name": "python3"
  },
  "language_info": {
   "codemirror_mode": {
    "name": "ipython",
    "version": 3
   },
   "file_extension": ".py",
   "mimetype": "text/x-python",
   "name": "python",
   "nbconvert_exporter": "python",
   "pygments_lexer": "ipython3",
   "version": "3.10.14"
  }
 },
 "nbformat": 4,
 "nbformat_minor": 5
}
